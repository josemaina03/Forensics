{
 "cells": [
  {
   "cell_type": "code",
   "execution_count": 3,
   "id": "f817a468",
   "metadata": {},
   "outputs": [
    {
     "name": "stdout",
     "output_type": "stream",
     "text": [
      "Enter your password :jose\n",
      "The hash string to store in the db is: d1d301ac2ba2873df5096d11ab054e7c7aa98ca3edb339e7d230316c285e612c:56eb6d7dc259468d8a8d44355c6ac495\n",
      "Enter new password muhia\n",
      "Passwords do not match\n"
     ]
    }
   ],
   "source": [
    "import hashlib  \n",
    "import uuid  \n",
    "  \n",
    "def hash_pass(password):  \n",
    "    s = uuid.uuid4().hex  \n",
    "    return hashlib.sha256(s.encode() + password.encode()).hexdigest() + ':' + s  \n",
    "def verify_password(hashed_password, user_password):  \n",
    "    password, s = hashed_password.split(':')  \n",
    "    return password == hashlib.sha256(s.encode() + user_password.encode()).hexdigest()  \n",
    "new_password = input('Enter your password :')  \n",
    "  \n",
    "hashed_password = hash_pass(new_password)  \n",
    "print('The hash string to store in the db is: ' + hashed_password)  \n",
    "\n",
    "old_password = input('Enter new password ')  \n",
    "if verify_password(hashed_password, old_password):  \n",
    "    print(' Entered password is correct')  \n",
    "else:  \n",
    "    print('Passwords do not match')  "
   ]
  },
  {
   "cell_type": "code",
   "execution_count": 5,
   "id": "1fceeb6d",
   "metadata": {},
   "outputs": [
    {
     "ename": "ModuleNotFoundError",
     "evalue": "No module named 'scapy'",
     "output_type": "error",
     "traceback": [
      "\u001b[1;31m---------------------------------------------------------------------------\u001b[0m",
      "\u001b[1;31mModuleNotFoundError\u001b[0m                       Traceback (most recent call last)",
      "Cell \u001b[1;32mIn[5], line 2\u001b[0m\n\u001b[0;32m      1\u001b[0m \u001b[38;5;66;03m#Imports scapy and GeoIP toolkit  \u001b[39;00m\n\u001b[1;32m----> 2\u001b[0m \u001b[38;5;28;01mimport\u001b[39;00m \u001b[38;5;21;01mscapy\u001b[39;00m\u001b[38;5;241m,\u001b[39m \u001b[38;5;21;01mGeoIP\u001b[39;00m   \n\u001b[0;32m      3\u001b[0m \u001b[38;5;28;01mfrom\u001b[39;00m \u001b[38;5;21;01mscapy\u001b[39;00m \u001b[38;5;28;01mimport\u001b[39;00m \u001b[38;5;241m*\u001b[39m  \n\u001b[0;32m      5\u001b[0m geoIp \u001b[38;5;241m=\u001b[39m GeoIP\u001b[38;5;241m.\u001b[39mnew(GeoIP\u001b[38;5;241m.\u001b[39mGEOIP_MEMORY_CACHE)   \n",
      "\u001b[1;31mModuleNotFoundError\u001b[0m: No module named 'scapy'"
     ]
    }
   ],
   "source": [
    "#Imports scapy and GeoIP toolkit  \n",
    "import scapy, GeoIP   \n",
    "from scapy import *  \n",
    "  \n",
    "geoIp = GeoIP.new(GeoIP.GEOIP_MEMORY_CACHE)   \n",
    "def locatePackage(pkg):  \n",
    "    # extracts the source IP address  \n",
    "    source = pkg.getlayer(IP).src  \n",
    "    # extracts the destination IP address  \n",
    "    destination = pkg.getlayer(IP).dst  \n",
    "    # gets Country details of source  \n",
    "    srcCountry = geoIp.country_code_by_addr(source)   \n",
    "    dstCountry = geoIp.country_code_by_addr(destination)  \n",
    "    # gets country details of destination  \n",
    "    print(src+\"(\"+sourceCountry+\") >> \"+destination+\"(\"+destinationcountry+\")\\n\" )"
   ]
  },
  {
   "cell_type": "code",
   "execution_count": null,
   "id": "a0f20e7f",
   "metadata": {},
   "outputs": [],
   "source": []
  },
  {
   "cell_type": "code",
   "execution_count": null,
   "id": "3805381c",
   "metadata": {},
   "outputs": [],
   "source": []
  }
 ],
 "metadata": {
  "kernelspec": {
   "display_name": "Python 3 (ipykernel)",
   "language": "python",
   "name": "python3"
  },
  "language_info": {
   "codemirror_mode": {
    "name": "ipython",
    "version": 3
   },
   "file_extension": ".py",
   "mimetype": "text/x-python",
   "name": "python",
   "nbconvert_exporter": "python",
   "pygments_lexer": "ipython3",
   "version": "3.10.9"
  }
 },
 "nbformat": 4,
 "nbformat_minor": 5
}
